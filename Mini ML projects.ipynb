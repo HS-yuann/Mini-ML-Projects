{
 "cells": [
  {
   "cell_type": "markdown",
   "id": "b73e1c12",
   "metadata": {},
   "source": [
    "# Clustering"
   ]
  },
  {
   "cell_type": "code",
   "execution_count": 8,
   "id": "8c9d7404",
   "metadata": {},
   "outputs": [
    {
     "data": {
      "text/plain": [
       "<matplotlib.collections.PathCollection at 0x240aaee8d60>"
      ]
     },
     "execution_count": 8,
     "metadata": {},
     "output_type": "execute_result"
    },
    {
     "data": {
      "image/png": "[encoded data removed]",
      "text/plain": [
       "<Figure size 432x288 with 1 Axes>"
      ]
     },
     "metadata": {
      "needs_background": "light"
     },
     "output_type": "display_data"
    }
   ],
   "source": [
    "data = np.array([[1.75,83.4],[1.59,46.7],[1.62,58.3],[1.58,62.9],[1.6,64.1], \n",
    "                 [1.82,99.8],[1.7,79.8],[1.75,74.3],[1.61,70.9], [1.71,69], \n",
    "                 [1.74,76.2],[1.52,44.3],[1.75,73.6],[1.68,62],[1.77,93.6], \n",
    "                 [1.5,50.1],[1.88,109.7],[1.57,51.6],[1.88,96.5],[1.7,77.5]]) \n",
    " \n",
    "import matplotlib.pyplot as plt \n",
    "plt.scatter(data[:,0],data[:,1]) "
   ]
  },
  {
   "cell_type": "code",
   "execution_count": 2,
   "id": "ea455081",
   "metadata": {},
   "outputs": [
    {
     "name": "stdout",
     "output_type": "stream",
     "text": [
      "[[ 1.598 57.99 ]\n",
      " [ 1.774 86.44 ]]\n"
     ]
    }
   ],
   "source": [
    "from sklearn.cluster import KMeans \n",
    "kmeans = KMeans(n_clusters=2, random_state=1) \n",
    "kmeans.fit(data) \n",
    "print(kmeans.cluster_centers_) "
   ]
  },
  {
   "cell_type": "code",
   "execution_count": 3,
   "id": "251ab467",
   "metadata": {},
   "outputs": [
    {
     "name": "stdout",
     "output_type": "stream",
     "text": [
      "Cluster Assignment:  [1 0 0 0 0 1 1 1 0 0 1 0 1 0 1 0 1 0 1 1]\n",
      "Sum of Squared Distance:  2205.8882000000003\n"
     ]
    }
   ],
   "source": [
    "print(\"Cluster Assignment: \", kmeans.labels_) \n",
    "print(\"Sum of Squared Distance: \", kmeans.inertia_) "
   ]
  },
  {
   "cell_type": "code",
   "execution_count": 4,
   "id": "8ce0ad98",
   "metadata": {},
   "outputs": [
    {
     "data": {
      "image/png": "[encoded data removed]",
      "text/plain": [
       "<Figure size 432x288 with 1 Axes>"
      ]
     },
     "metadata": {
      "needs_background": "light"
     },
     "output_type": "display_data"
    }
   ],
   "source": [
    "import matplotlib.pyplot as plt \n",
    "plt.scatter(data[:,0],data[:,1], c=kmeans.labels_.astype(float)) \n",
    "plt.show()"
   ]
  },
  {
   "cell_type": "code",
   "execution_count": 5,
   "id": "bf31255a",
   "metadata": {},
   "outputs": [
    {
     "name": "stdout",
     "output_type": "stream",
     "text": [
      "Centorids:  [[1760.83333333   82.95      ]\n",
      " [1573.75         56.1125    ]]\n",
      "Cluster Assignment:  [0 1 1 1 1 0 0 0 1 0 0 1 0 0 0 1 0 1 0 0]\n",
      "Sum of Distance:  64874.785416666666\n"
     ]
    },
    {
     "data": {
      "image/png": "[encoded data removed]",
      "text/plain": [
       "<Figure size 432x288 with 1 Axes>"
      ]
     },
     "metadata": {
      "needs_background": "light"
     },
     "output_type": "display_data"
    }
   ],
   "source": [
    "data_mm = np.copy(data) \n",
    "data_mm[:,0] = data[:,0]*1000 \n",
    " \n",
    "from sklearn.cluster import KMeans \n",
    "kmeans = KMeans(n_clusters=2, random_state=1)  \n",
    "kmeans.fit(data_mm) \n",
    " \n",
    "print(\"Centorids: \", kmeans.cluster_centers_) \n",
    "print(\"Cluster Assignment: \", kmeans.labels_) \n",
    "print(\"Sum of Distance: \", kmeans.inertia_) \n",
    " \n",
    "import matplotlib.pyplot as plt \n",
    "plt.scatter(data_mm[:,0],data_mm[:,1], c=kmeans.labels_.astype(float)) \n",
    "plt.show() "
   ]
  },
  {
   "cell_type": "code",
   "execution_count": 6,
   "id": "8c9b1ca0",
   "metadata": {},
   "outputs": [
    {
     "name": "stdout",
     "output_type": "stream",
     "text": [
      "Mean of data [ 1.686 72.215]\n",
      "Std Dev of data [ 0.1072567  17.68166494]\n",
      "Scaled Data\n",
      "[[ 0.59669931  0.63257618]\n",
      " [-0.89504897 -1.44302022]\n",
      " [-0.61534617 -0.7869734 ]\n",
      " [-0.98828324 -0.52681691]\n",
      " [-0.8018147  -0.45894999]\n",
      " [ 1.24933919  1.56009064]\n",
      " [ 0.13052797  0.42897544]\n",
      " [ 0.59669931  0.11791876]\n",
      " [-0.70858043 -0.07437082]\n",
      " [ 0.22376224 -0.18182677]\n",
      " [ 0.50346504  0.2253747 ]\n",
      " [-1.54768884 -1.57875404]\n",
      " [ 0.59669931  0.07832973]\n",
      " [-0.05594056 -0.57771709]\n",
      " [ 0.78316785  1.20944493]\n",
      " [-1.73415738 -1.25073063]\n",
      " [ 1.80874479  2.11999267]\n",
      " [-1.0815175  -1.16589699]\n",
      " [ 1.80874479  1.37345663]\n",
      " [ 0.13052797  0.29889719]]\n"
     ]
    }
   ],
   "source": [
    "from sklearn import preprocessing \n",
    "scaler = preprocessing.StandardScaler().fit(data) \n",
    "print(\"Mean of data\",scaler.mean_) \n",
    "print(\"Std Dev of data\",scaler.scale_) \n",
    " \n",
    "print(\"Scaled Data\") \n",
    "data_scaled = scaler.transform(data) \n",
    "print(data_scaled)"
   ]
  },
  {
   "cell_type": "code",
   "execution_count": 7,
   "id": "4222bba5",
   "metadata": {},
   "outputs": [
    {
     "data": {
      "text/plain": [
       "0.5154460942106814"
      ]
     },
     "execution_count": 7,
     "metadata": {},
     "output_type": "execute_result"
    }
   ],
   "source": [
    "from sklearn import metrics \n",
    "metrics.silhouette_score(data_scaled, kmeans.labels_, metric='euclidean')"
   ]
  },
  {
   "cell_type": "markdown",
   "id": "6da7ab12",
   "metadata": {},
   "source": [
    "# Classification"
   ]
  },
  {
   "cell_type": "code",
   "execution_count": 9,
   "id": "092754db",
   "metadata": {},
   "outputs": [
    {
     "data": {
      "text/plain": [
       "<matplotlib.collections.PathCollection at 0x240aaf52fd0>"
      ]
     },
     "execution_count": 9,
     "metadata": {},
     "output_type": "execute_result"
    },
    {
     "data": {
      "image/png": "[encoded data removed]",
      "text/plain": [
       "<Figure size 432x288 with 1 Axes>"
      ]
     },
     "metadata": {
      "needs_background": "light"
     },
     "output_type": "display_data"
    }
   ],
   "source": [
    "import numpy as np \n",
    "X = np.array([[0.5],[0.75],[1],[1.25],[1.5],[1.75],[1.75],[2],[2.25],[2.5], \n",
    "              [2.75],[3],[3.25],[3.5],[4],[4.25],[4.5],[4.75],[5],[5.5]]) \n",
    "y = np.array([0,0,0,0,0,0,1,0,1,0,1,0,1,0,1,1,1,1,1,1]) \n",
    " \n",
    "import matplotlib.pyplot as plt \n",
    "plt.scatter(X,y)"
   ]
  },
  {
   "cell_type": "code",
   "execution_count": 10,
   "id": "9e0180c9",
   "metadata": {},
   "outputs": [
    {
     "name": "stdout",
     "output_type": "stream",
     "text": [
      "Intercept:  [-1.61540154]\n",
      "Coefficient:  [[0.61540154]]\n"
     ]
    }
   ],
   "source": [
    "from sklearn.svm import LinearSVC \n",
    "sv_clf = LinearSVC(C=1, loss='hinge', max_iter=1000, random_state=0).fit(X,y) \n",
    "print(\"Intercept: \", sv_clf.intercept_) \n",
    "print(\"Coefficient: \", sv_clf.coef_) "
   ]
  },
  {
   "cell_type": "code",
   "execution_count": 11,
   "id": "87e675db",
   "metadata": {},
   "outputs": [
    {
     "name": "stdout",
     "output_type": "stream",
     "text": [
      "Response y if study hours is 2.1 =>  [-0.3230583]\n",
      "Response y if study hours is 2.9 =>  [0.16926293]\n",
      "Prediction if study hours is 2.1 =>  [0]\n",
      "Prediction if study hours is 2.9 =>  [1]\n"
     ]
    }
   ],
   "source": [
    "print(\"Response y if study hours is 2.1 => \", sv_clf.decision_function([[2.1]])) \n",
    "print(\"Response y if study hours is 2.9 => \", sv_clf.decision_function([[2.9]])) \n",
    "print(\"Prediction if study hours is 2.1 => \", sv_clf.predict([[2.1]])) \n",
    "print(\"Prediction if study hours is 2.9 => \", sv_clf.predict([[2.9]])) "
   ]
  },
  {
   "cell_type": "code",
   "execution_count": 12,
   "id": "620793cb",
   "metadata": {},
   "outputs": [
    {
     "data": {
      "text/plain": [
       "array([[8, 2],\n",
       "       [2, 8]], dtype=int64)"
      ]
     },
     "execution_count": 12,
     "metadata": {},
     "output_type": "execute_result"
    }
   ],
   "source": [
    "from sklearn.metrics import confusion_matrix \n",
    "confusion_matrix(y, sv_clf.predict(X))"
   ]
  },
  {
   "cell_type": "code",
   "execution_count": 13,
   "id": "3b0e90f9",
   "metadata": {},
   "outputs": [
    {
     "name": "stdout",
     "output_type": "stream",
     "text": [
      "Model accuracy:  0.8\n",
      "Model precision:  0.8\n",
      "Model recall:  0.8\n",
      "Model F1 Score:  0.8000000000000002\n"
     ]
    }
   ],
   "source": [
    "from sklearn.metrics import accuracy_score \n",
    "from sklearn.metrics import precision_score \n",
    "from sklearn.metrics import recall_score \n",
    "from sklearn.metrics import f1_score \n",
    " \n",
    "print(\"Model accuracy: \", accuracy_score(y, sv_clf.predict(X))) \n",
    "print(\"Model precision: \", precision_score(y, sv_clf.predict(X))) \n",
    "print(\"Model recall: \", recall_score(y, sv_clf.predict(X))) \n",
    "print(\"Model F1 Score: \", f1_score(y, sv_clf.predict(X)))"
   ]
  },
  {
   "cell_type": "code",
   "execution_count": 14,
   "id": "c2dd43ae",
   "metadata": {},
   "outputs": [
    {
     "data": {
      "text/plain": [
       "<matplotlib.collections.PathCollection at 0x240aafca250>"
      ]
     },
     "execution_count": 14,
     "metadata": {},
     "output_type": "execute_result"
    },
    {
     "data": {
      "image/png": "[encoded data removed]",
      "text/plain": [
       "<Figure size 432x288 with 1 Axes>"
      ]
     },
     "metadata": {
      "needs_background": "light"
     },
     "output_type": "display_data"
    }
   ],
   "source": [
    "import numpy as np \n",
    "X = np.array([[0.5],[0.75],[1],[1.25],[1.5],[1.75],[1.75],[2],[2.25],[2.5], \n",
    "              [2.75],[3],[3.25],[3.5],[4],[4.25],[4.5],[4.75],[5],[5.5]]) \n",
    "grade = np.array(['C','C','B','C','C','C','B','C','A','C', \n",
    "                  'A','C','B','C','A','B','A','A','B','A']) \n",
    " \n",
    "import matplotlib.pyplot as plt \n",
    "plt.scatter(X,grade) "
   ]
  },
  {
   "cell_type": "code",
   "execution_count": 15,
   "id": "f6dd4ab9",
   "metadata": {},
   "outputs": [
    {
     "name": "stdout",
     "output_type": "stream",
     "text": [
      "Intercept:  [-1.10769231]\n",
      "Coefficient:  [[0.06153846]]\n"
     ]
    }
   ],
   "source": [
    "y_A = np.array([0,0,0,0,0,0,0,0,1,0,1,0,0,0,1,0,1,1,0,1]) \n",
    " \n",
    "from sklearn.svm import LinearSVC \n",
    "sv_clf_A = LinearSVC(C=1, loss='hinge', max_iter=1000, random_state=0).fit(X,y_A) \n",
    "print(\"Intercept: \", sv_clf_A.intercept_) \n",
    "print(\"Coefficient: \", sv_clf_A.coef_) "
   ]
  },
  {
   "cell_type": "code",
   "execution_count": 16,
   "id": "c7b43ac9",
   "metadata": {},
   "outputs": [
    {
     "name": "stdout",
     "output_type": "stream",
     "text": [
      "Intercept:  [-1.10769231 -1.0000044   1.42856337]\n",
      "Coefficient:  [[ 6.15384615e-02]\n",
      " [ 1.46579141e-06]\n",
      " [-5.71417826e-01]]\n",
      "Prediction if study hours is 3.9 =>  ['C']\n",
      "Prediction if study hours is 4.1 =>  ['A']\n"
     ]
    }
   ],
   "source": [
    "from sklearn.svm import LinearSVC \n",
    "sv_grade = LinearSVC(C=1, loss='hinge', max_iter=1000, random_state=0).fit(X,grade) \n",
    "print(\"Intercept: \", sv_grade.intercept_) \n",
    "print(\"Coefficient: \", sv_grade.coef_) \n",
    "print(\"Prediction if study hours is 3.9 => \", sv_grade.predict([[3.9]])) \n",
    "print(\"Prediction if study hours is 4.1 => \", sv_grade.predict([[4.1]])) "
   ]
  },
  {
   "cell_type": "code",
   "execution_count": 17,
   "id": "6627e487",
   "metadata": {},
   "outputs": [
    {
     "name": "stdout",
     "output_type": "stream",
     "text": [
      "[[3 0 3]\n",
      " [2 0 3]\n",
      " [0 0 9]]\n",
      "Model accuracy:  0.6\n"
     ]
    }
   ],
   "source": [
    " \n",
    "from sklearn.metrics import confusion_matrix \n",
    "from sklearn.metrics import accuracy_score \n",
    "print(confusion_matrix(grade, sv_grade.predict(X))) \n",
    "print(\"Model accuracy: \", accuracy_score(grade, sv_grade.predict(X)))"
   ]
  },
  {
   "cell_type": "code",
   "execution_count": 18,
   "id": "29944123",
   "metadata": {},
   "outputs": [
    {
     "data": {
      "text/plain": [
       "[Text(167.4, 181.2, 'X[0] <= 3.75\\ngini = 0.645\\nsamples = 20\\nvalue = [6, 5, 9]'),\n",
       " Text(83.7, 108.72, 'X[0] <= 2.125\\ngini = 0.52\\nsamples = 14\\nvalue = [2, 3, 9]'),\n",
       " Text(41.85, 36.23999999999998, 'gini = 0.375\\nsamples = 8\\nvalue = [0, 2, 6]'),\n",
       " Text(125.55000000000001, 36.23999999999998, 'gini = 0.611\\nsamples = 6\\nvalue = [2, 1, 3]'),\n",
       " Text(251.10000000000002, 108.72, 'X[0] <= 4.125\\ngini = 0.444\\nsamples = 6\\nvalue = [4, 2, 0]'),\n",
       " Text(209.25, 36.23999999999998, 'gini = 0.0\\nsamples = 1\\nvalue = [1, 0, 0]'),\n",
       " Text(292.95, 36.23999999999998, 'gini = 0.48\\nsamples = 5\\nvalue = [3, 2, 0]')]"
      ]
     },
     "execution_count": 18,
     "metadata": {},
     "output_type": "execute_result"
    },
    {
     "data": {
      "image/png": "[encoded data removed]",
      "text/plain": [
       "<Figure size 432x288 with 1 Axes>"
      ]
     },
     "metadata": {
      "needs_background": "light"
     },
     "output_type": "display_data"
    }
   ],
   "source": [
    "import numpy as np \n",
    "X = np.array([[0.5],[0.75],[1],[1.25],[1.5],[1.75],[1.75],[2],[2.25],[2.5], \n",
    "              [2.75],[3],[3.25],[3.5],[4],[4.25],[4.5],[4.75],[5],[5.5]]) \n",
    "grade = np.array(['C','C','B','C','C','C','B','C','A','C', \n",
    "                  'A','C','B','C','A','B','A','A','B','A']) \n",
    " \n",
    "from sklearn.tree import DecisionTreeClassifier \n",
    "dt_clf = DecisionTreeClassifier(max_depth=2,random_state=0).fit(X,grade) \n",
    "  \n",
    "from sklearn import tree \n",
    "tree.plot_tree(dt_clf) "
   ]
  },
  {
   "cell_type": "code",
   "execution_count": 19,
   "id": "344869ba",
   "metadata": {},
   "outputs": [
    {
     "name": "stdout",
     "output_type": "stream",
     "text": [
      "Prediction if study hours is 2 =>  ['C']\n",
      "Prediction if study hours is 5 =>  ['A']\n"
     ]
    }
   ],
   "source": [
    "\n",
    " \n",
    "print(\"Prediction if study hours is 2 => \", dt_clf.predict([[2]])) \n",
    "print(\"Prediction if study hours is 5 => \", dt_clf.predict([[5]])) "
   ]
  },
  {
   "cell_type": "code",
   "execution_count": 20,
   "id": "1d92b157",
   "metadata": {},
   "outputs": [
    {
     "name": "stdout",
     "output_type": "stream",
     "text": [
      "Prediction probabilities (x=2) =>  [[0.   0.25 0.75]]\n",
      "Prediction probabilities (x=5) =>  [[0.6 0.4 0. ]]\n"
     ]
    }
   ],
   "source": [
    "print(\"Prediction probabilities (x=2) => \", dt_clf.predict_proba([[2]])) \n",
    "print(\"Prediction probabilities (x=5) => \", dt_clf.predict_proba([[5]])) "
   ]
  },
  {
   "cell_type": "code",
   "execution_count": 21,
   "id": "bccc1584",
   "metadata": {},
   "outputs": [
    {
     "name": "stdout",
     "output_type": "stream",
     "text": [
      "[[4 0 2]\n",
      " [2 0 3]\n",
      " [0 0 9]]\n",
      "Model accuracy:  0.65\n"
     ]
    }
   ],
   "source": [
    "from sklearn.metrics import confusion_matrix \n",
    "from sklearn.metrics import accuracy_score \n",
    "print(confusion_matrix(grade, dt_clf.predict(X))) \n",
    "print(\"Model accuracy: \", accuracy_score(grade, dt_clf.predict(X)))"
   ]
  },
  {
   "cell_type": "code",
   "execution_count": 24,
   "id": "70234d58",
   "metadata": {},
   "outputs": [
    {
     "ename": "NotFittedError",
     "evalue": "This DecisionTreeClassifier instance is not fitted yet. Call 'fit' with appropriate arguments before using this estimator.",
     "output_type": "error",
     "traceback": [
      "\u001b[1;31m---------------------------------------------------------------------------\u001b[0m",
      "\u001b[1;31mNotFittedError\u001b[0m                            Traceback (most recent call last)",
      "\u001b[1;32m~\\AppData\\Local\\Temp/ipykernel_25100/3873167434.py\u001b[0m in \u001b[0;36m<module>\u001b[1;34m\u001b[0m\n\u001b[0;32m      9\u001b[0m \u001b[1;33m\u001b[0m\u001b[0m\n\u001b[0;32m     10\u001b[0m \u001b[1;32mfrom\u001b[0m \u001b[0msklearn\u001b[0m \u001b[1;32mimport\u001b[0m \u001b[0mtree\u001b[0m\u001b[1;33m\u001b[0m\u001b[1;33m\u001b[0m\u001b[0m\n\u001b[1;32m---> 11\u001b[1;33m \u001b[0mtree\u001b[0m\u001b[1;33m.\u001b[0m\u001b[0mplot_tree\u001b[0m\u001b[1;33m(\u001b[0m\u001b[0mdt_clf1\u001b[0m\u001b[1;33m)\u001b[0m\u001b[1;33m\u001b[0m\u001b[1;33m\u001b[0m\u001b[0m\n\u001b[0m",
      "\u001b[1;32m~\\anaconda3\\lib\\site-packages\\sklearn\\utils\\validation.py\u001b[0m in \u001b[0;36minner_f\u001b[1;34m(*args, **kwargs)\u001b[0m\n\u001b[0;32m     61\u001b[0m             \u001b[0mextra_args\u001b[0m \u001b[1;33m=\u001b[0m \u001b[0mlen\u001b[0m\u001b[1;33m(\u001b[0m\u001b[0margs\u001b[0m\u001b[1;33m)\u001b[0m \u001b[1;33m-\u001b[0m \u001b[0mlen\u001b[0m\u001b[1;33m(\u001b[0m\u001b[0mall_args\u001b[0m\u001b[1;33m)\u001b[0m\u001b[1;33m\u001b[0m\u001b[1;33m\u001b[0m\u001b[0m\n\u001b[0;32m     62\u001b[0m             \u001b[1;32mif\u001b[0m \u001b[0mextra_args\u001b[0m \u001b[1;33m<=\u001b[0m \u001b[1;36m0\u001b[0m\u001b[1;33m:\u001b[0m\u001b[1;33m\u001b[0m\u001b[1;33m\u001b[0m\u001b[0m\n\u001b[1;32m---> 63\u001b[1;33m                 \u001b[1;32mreturn\u001b[0m \u001b[0mf\u001b[0m\u001b[1;33m(\u001b[0m\u001b[1;33m*\u001b[0m\u001b[0margs\u001b[0m\u001b[1;33m,\u001b[0m \u001b[1;33m**\u001b[0m\u001b[0mkwargs\u001b[0m\u001b[1;33m)\u001b[0m\u001b[1;33m\u001b[0m\u001b[1;33m\u001b[0m\u001b[0m\n\u001b[0m\u001b[0;32m     64\u001b[0m \u001b[1;33m\u001b[0m\u001b[0m\n\u001b[0;32m     65\u001b[0m             \u001b[1;31m# extra_args > 0\u001b[0m\u001b[1;33m\u001b[0m\u001b[1;33m\u001b[0m\u001b[0m\n",
      "\u001b[1;32m~\\anaconda3\\lib\\site-packages\\sklearn\\tree\\_export.py\u001b[0m in \u001b[0;36mplot_tree\u001b[1;34m(decision_tree, max_depth, feature_names, class_names, label, filled, impurity, node_ids, proportion, rotate, rounded, precision, ax, fontsize)\u001b[0m\n\u001b[0;32m    179\u001b[0m     \"\"\"\n\u001b[0;32m    180\u001b[0m \u001b[1;33m\u001b[0m\u001b[0m\n\u001b[1;32m--> 181\u001b[1;33m     \u001b[0mcheck_is_fitted\u001b[0m\u001b[1;33m(\u001b[0m\u001b[0mdecision_tree\u001b[0m\u001b[1;33m)\u001b[0m\u001b[1;33m\u001b[0m\u001b[1;33m\u001b[0m\u001b[0m\n\u001b[0m\u001b[0;32m    182\u001b[0m \u001b[1;33m\u001b[0m\u001b[0m\n\u001b[0;32m    183\u001b[0m     \u001b[1;32mif\u001b[0m \u001b[0mrotate\u001b[0m \u001b[1;33m!=\u001b[0m \u001b[1;34m'deprecated'\u001b[0m\u001b[1;33m:\u001b[0m\u001b[1;33m\u001b[0m\u001b[1;33m\u001b[0m\u001b[0m\n",
      "\u001b[1;32m~\\anaconda3\\lib\\site-packages\\sklearn\\utils\\validation.py\u001b[0m in \u001b[0;36minner_f\u001b[1;34m(*args, **kwargs)\u001b[0m\n\u001b[0;32m     61\u001b[0m             \u001b[0mextra_args\u001b[0m \u001b[1;33m=\u001b[0m \u001b[0mlen\u001b[0m\u001b[1;33m(\u001b[0m\u001b[0margs\u001b[0m\u001b[1;33m)\u001b[0m \u001b[1;33m-\u001b[0m \u001b[0mlen\u001b[0m\u001b[1;33m(\u001b[0m\u001b[0mall_args\u001b[0m\u001b[1;33m)\u001b[0m\u001b[1;33m\u001b[0m\u001b[1;33m\u001b[0m\u001b[0m\n\u001b[0;32m     62\u001b[0m             \u001b[1;32mif\u001b[0m \u001b[0mextra_args\u001b[0m \u001b[1;33m<=\u001b[0m \u001b[1;36m0\u001b[0m\u001b[1;33m:\u001b[0m\u001b[1;33m\u001b[0m\u001b[1;33m\u001b[0m\u001b[0m\n\u001b[1;32m---> 63\u001b[1;33m                 \u001b[1;32mreturn\u001b[0m \u001b[0mf\u001b[0m\u001b[1;33m(\u001b[0m\u001b[1;33m*\u001b[0m\u001b[0margs\u001b[0m\u001b[1;33m,\u001b[0m \u001b[1;33m**\u001b[0m\u001b[0mkwargs\u001b[0m\u001b[1;33m)\u001b[0m\u001b[1;33m\u001b[0m\u001b[1;33m\u001b[0m\u001b[0m\n\u001b[0m\u001b[0;32m     64\u001b[0m \u001b[1;33m\u001b[0m\u001b[0m\n\u001b[0;32m     65\u001b[0m             \u001b[1;31m# extra_args > 0\u001b[0m\u001b[1;33m\u001b[0m\u001b[1;33m\u001b[0m\u001b[0m\n",
      "\u001b[1;32m~\\anaconda3\\lib\\site-packages\\sklearn\\utils\\validation.py\u001b[0m in \u001b[0;36mcheck_is_fitted\u001b[1;34m(estimator, attributes, msg, all_or_any)\u001b[0m\n\u001b[0;32m   1096\u001b[0m \u001b[1;33m\u001b[0m\u001b[0m\n\u001b[0;32m   1097\u001b[0m     \u001b[1;32mif\u001b[0m \u001b[1;32mnot\u001b[0m \u001b[0mattrs\u001b[0m\u001b[1;33m:\u001b[0m\u001b[1;33m\u001b[0m\u001b[1;33m\u001b[0m\u001b[0m\n\u001b[1;32m-> 1098\u001b[1;33m         \u001b[1;32mraise\u001b[0m \u001b[0mNotFittedError\u001b[0m\u001b[1;33m(\u001b[0m\u001b[0mmsg\u001b[0m \u001b[1;33m%\u001b[0m \u001b[1;33m{\u001b[0m\u001b[1;34m'name'\u001b[0m\u001b[1;33m:\u001b[0m \u001b[0mtype\u001b[0m\u001b[1;33m(\u001b[0m\u001b[0mestimator\u001b[0m\u001b[1;33m)\u001b[0m\u001b[1;33m.\u001b[0m\u001b[0m__name__\u001b[0m\u001b[1;33m}\u001b[0m\u001b[1;33m)\u001b[0m\u001b[1;33m\u001b[0m\u001b[1;33m\u001b[0m\u001b[0m\n\u001b[0m\u001b[0;32m   1099\u001b[0m \u001b[1;33m\u001b[0m\u001b[0m\n\u001b[0;32m   1100\u001b[0m \u001b[1;33m\u001b[0m\u001b[0m\n",
      "\u001b[1;31mNotFittedError\u001b[0m: This DecisionTreeClassifier instance is not fitted yet. Call 'fit' with appropriate arguments before using this estimator."
     ]
    }
   ],
   "source": [
    "import numpy as np \n",
    "X = np.array([[0.5],[0.75],[1],[1.25],[1.5],[1.75],[1.75],[2],[2.25],[2.5], \n",
    "              [2.75],[3],[3.25],[3.5],[4],[4.25],[4.5],[4.75],[5],[5.5]]) \n",
    "grade = np.array(['C','C','B','C','C','C','B','C','A','C', \n",
    "                  'A','C','B','C','A','B','A','A','B','A']) \n",
    " \n",
    "from sklearn.tree import DecisionTreeClassifier \n",
    "dt_clf1 = DecisionTreeClassifier(criterion='entropy',max_depth=2,random_state=0) \n",
    "  \n",
    "from sklearn import tree \n",
    "tree.plot_tree(dt_clf1) "
   ]
  },
  {
   "cell_type": "code",
   "execution_count": 25,
   "id": "024045ec",
   "metadata": {},
   "outputs": [
    {
     "name": "stdout",
     "output_type": "stream",
     "text": [
      "Intercept:  [-2.03341229 -0.24301607  2.27642836]\n",
      "Coefficient:  [[ 0.64072166]\n",
      " [ 0.0805862 ]\n",
      " [-0.72130786]]\n"
     ]
    }
   ],
   "source": [
    "import numpy as np \n",
    "X = np.array([[0.5],[0.75],[1],[1.25],[1.5],[1.75],[1.75],[2],[2.25],[2.5], \n",
    "              [2.75],[3],[3.25],[3.5],[4],[4.25],[4.5],[4.75],[5],[5.5]]) \n",
    "grade = np.array(['C','C','B','C','C','C','B','C','A','C', \n",
    "                  'A','C','B','C','A','B','A','A','B','A']) \n",
    " \n",
    "from sklearn.linear_model import LogisticRegression \n",
    "log_clf = LogisticRegression(multi_class='multinomial',C=10000, \n",
    "                             random_state=0).fit(X, grade) \n",
    " \n",
    "print(\"Intercept: \", log_clf.intercept_) \n",
    "print(\"Coefficient: \", log_clf.coef_)"
   ]
  },
  {
   "cell_type": "code",
   "execution_count": 26,
   "id": "3518cd8b",
   "metadata": {},
   "outputs": [
    {
     "name": "stdout",
     "output_type": "stream",
     "text": [
      "Prediction probabilities (x=2) =>  [[0.12759026 0.2493729  0.62303684]]\n",
      "Prediction if study hours is 2 =>  ['C']\n"
     ]
    }
   ],
   "source": [
    "print(\"Prediction probabilities (x=2) => \", log_clf.predict_proba([[2]])) \n",
    "print(\"Prediction if study hours is 2 => \", log_clf.predict([[2]])) "
   ]
  },
  {
   "cell_type": "markdown",
   "id": "0abfb9c8",
   "metadata": {},
   "source": [
    "# Regression"
   ]
  },
  {
   "cell_type": "code",
   "execution_count": 28,
   "id": "fe951e8d",
   "metadata": {},
   "outputs": [
    {
     "data": {
      "text/plain": [
       "<matplotlib.collections.PathCollection at 0x240aa727820>"
      ]
     },
     "execution_count": 28,
     "metadata": {},
     "output_type": "execute_result"
    },
    {
     "data": {
      "image/png": "[encoded data removed]",
      "text/plain": [
       "<Figure size 432x288 with 1 Axes>"
      ]
     },
     "metadata": {
      "needs_background": "light"
     },
     "output_type": "display_data"
    }
   ],
   "source": [
    "import numpy as np \n",
    "X = np.array([[1.52],[1.60],[1.68],[1.75],[1.80]]) \n",
    "y = np.array([57.48,56.57,66.11,65.10,70.19]) \n",
    " \n",
    "import matplotlib.pyplot as plt \n",
    "plt.scatter(X,y)"
   ]
  },
  {
   "cell_type": "code",
   "execution_count": 29,
   "id": "281f4357",
   "metadata": {},
   "outputs": [
    {
     "name": "stdout",
     "output_type": "stream",
     "text": [
      "Intercept:  -16.198838582677162\n",
      "Coefficient:  [47.47834646]\n"
     ]
    }
   ],
   "source": [
    "from sklearn.linear_model import LinearRegression \n",
    "lr = LinearRegression().fit(X, y) \n",
    "print(\"Intercept: \", lr.intercept_) \n",
    "print(\"Coefficient: \", lr.coef_)"
   ]
  },
  {
   "cell_type": "code",
   "execution_count": 30,
   "id": "e47c04c0",
   "metadata": {},
   "outputs": [
    {
     "name": "stdout",
     "output_type": "stream",
     "text": [
      "Estimated weight of 1.65m individual =>  [62.14043307]\n"
     ]
    }
   ],
   "source": [
    "print(\"Estimated weight of 1.65m individual => \", lr.predict([[1.65]]))"
   ]
  },
  {
   "cell_type": "code",
   "execution_count": 31,
   "id": "163b806c",
   "metadata": {},
   "outputs": [
    {
     "name": "stdout",
     "output_type": "stream",
     "text": [
      "R-sq of model:  0.8325011000770435\n"
     ]
    }
   ],
   "source": [
    "print(\"R-sq of model: \", lr.score(X, y)) "
   ]
  },
  {
   "cell_type": "code",
   "execution_count": 32,
   "id": "d3093558",
   "metadata": {},
   "outputs": [
    {
     "data": {
      "image/png": "[encoded data removed]",
      "text/plain": [
       "<Figure size 432x288 with 1 Axes>"
      ]
     },
     "metadata": {
      "needs_background": "light"
     },
     "output_type": "display_data"
    }
   ],
   "source": [
    "X_smooth = np.linspace(X[0], X[4], num=100) \n",
    " \n",
    "import matplotlib.pyplot as plt \n",
    "plt.scatter(X,y) \n",
    "plt.plot(X_smooth, lr.predict(X_smooth)) \n",
    "plt.show()"
   ]
  },
  {
   "cell_type": "code",
   "execution_count": 33,
   "id": "bbc0c71e",
   "metadata": {},
   "outputs": [
    {
     "name": "stdout",
     "output_type": "stream",
     "text": [
      "[[1.52     2.3104   3.511808]\n",
      " [1.6      2.56     4.096   ]\n",
      " [1.68     2.8224   4.741632]\n",
      " [1.75     3.0625   5.359375]\n",
      " [1.8      3.24     5.832   ]]\n"
     ]
    }
   ],
   "source": [
    "from sklearn.preprocessing import PolynomialFeatures \n",
    "poly_features = PolynomialFeatures(degree=3, include_bias=False) \n",
    "X_poly = poly_features.fit_transform(X) \n",
    "print(X_poly)"
   ]
  },
  {
   "cell_type": "code",
   "execution_count": 34,
   "id": "439f04ef",
   "metadata": {},
   "outputs": [
    {
     "name": "stdout",
     "output_type": "stream",
     "text": [
      "Intercept:  6222.530787592063\n",
      "Coefficient:  [-11157.00081207   6693.17765818  -1329.99968084]\n"
     ]
    }
   ],
   "source": [
    "from sklearn.linear_model import LinearRegression \n",
    "pr = LinearRegression().fit(X_poly, y) \n",
    "print(\"Intercept: \", pr.intercept_) \n",
    "print(\"Coefficient: \",pr.coef_) "
   ]
  },
  {
   "cell_type": "code",
   "execution_count": 35,
   "id": "f423d3ca",
   "metadata": {},
   "outputs": [
    {
     "name": "stdout",
     "output_type": "stream",
     "text": [
      "R-sq of model:  0.865313205610426\n"
     ]
    }
   ],
   "source": [
    "print(\"R-sq of model: \", pr.score(X_poly, y)) "
   ]
  },
  {
   "cell_type": "code",
   "execution_count": 36,
   "id": "cdc0dfc2",
   "metadata": {},
   "outputs": [
    {
     "data": {
      "image/png": "[encoded data removed]",
      "text/plain": [
       "<Figure size 432x288 with 1 Axes>"
      ]
     },
     "metadata": {
      "needs_background": "light"
     },
     "output_type": "display_data"
    }
   ],
   "source": [
    "X_smooth = np.linspace(X[0], X[4], num=100) \n",
    "X_poly_smooth = poly_features.fit_transform(X_smooth) \n",
    " \n",
    "import matplotlib.pyplot as plt \n",
    "plt.scatter(X,y) \n",
    "plt.plot(X_smooth, pr.predict(X_poly_smooth)) \n",
    "plt.show()"
   ]
  },
  {
   "cell_type": "code",
   "execution_count": 37,
   "id": "ce7bbc73",
   "metadata": {},
   "outputs": [
    {
     "name": "stdout",
     "output_type": "stream",
     "text": [
      "y_test:  56.57\n",
      "X_test:  [1.6]\n",
      "y_train:  [57.48 66.11 65.1  70.19]\n",
      "X_train \n",
      " [[1.52]\n",
      " [1.68]\n",
      " [1.75]\n",
      " [1.8 ]]\n"
     ]
    }
   ],
   "source": [
    "i=1 \n",
    "y_test = y[i] \n",
    "X_test = X[i] \n",
    "y_train = np.delete(y, i, axis=0) \n",
    "X_train = np.delete(X, i, axis=0) \n",
    " \n",
    "print(\"y_test: \", y_test) \n",
    "print(\"X_test: \", X_test) \n",
    "print(\"y_train: \", y_train) \n",
    "print(\"X_train \\n\", X_train) "
   ]
  },
  {
   "cell_type": "code",
   "execution_count": 38,
   "id": "4e5c1018",
   "metadata": {},
   "outputs": [
    {
     "name": "stdout",
     "output_type": "stream",
     "text": [
      "R-SQ:  0.8991084756237839\n",
      "Prediction:  [61.11345271]\n",
      "Error:  [-4.54345271]\n"
     ]
    }
   ],
   "source": [
    "from sklearn.linear_model import LinearRegression  \n",
    "lr = LinearRegression().fit(X_train, y_train) \n",
    "print(\"R-SQ: \", lr.score(X_train, y_train)) \n",
    "print(\"Prediction: \", lr.predict([X_test])) \n",
    "print(\"Error: \", y_test - lr.predict([X_test]))"
   ]
  },
  {
   "cell_type": "code",
   "execution_count": 39,
   "id": "0d09a481",
   "metadata": {},
   "outputs": [
    {
     "name": "stdout",
     "output_type": "stream",
     "text": [
      "R-SQ:  1.0\n",
      "Prediction:  [68.03729814]\n",
      "Error:  [-11.46729814]\n"
     ]
    }
   ],
   "source": [
    "from sklearn.preprocessing import PolynomialFeatures  \n",
    "poly_features = PolynomialFeatures(degree=3, include_bias=False) \n",
    "X_train_poly = poly_features.fit_transform(X_train) \n",
    "X_test_poly = poly_features.fit_transform([X_test]) \n",
    " \n",
    "pr = LinearRegression().fit(X_train_poly, y_train) \n",
    "print(\"R-SQ: \", pr.score(X_train_poly, y_train)) \n",
    "print(\"Prediction: \", pr.predict(X_test_poly)) \n",
    "print(\"Error: \", y_test - pr.predict(X_test_poly)) "
   ]
  },
  {
   "cell_type": "code",
   "execution_count": 40,
   "id": "a560f947",
   "metadata": {},
   "outputs": [
    {
     "data": {
      "image/png": "[encoded data removed]",
      "text/plain": [
       "<Figure size 432x288 with 1 Axes>"
      ]
     },
     "metadata": {
      "needs_background": "light"
     },
     "output_type": "display_data"
    }
   ],
   "source": [
    "X_train_smooth = np.linspace(X[0], X[4], num=100) \n",
    "X_train_poly_smooth = poly_features.fit_transform(X_train_smooth) \n",
    " \n",
    "import matplotlib.pyplot as plt \n",
    "plt.scatter(X,y) \n",
    "plt.plot(X_train_smooth, lr.predict(X_train_smooth)) \n",
    "plt.plot(X_train_smooth, pr.predict(X_train_poly_smooth)) \n",
    "plt.show()"
   ]
  },
  {
   "cell_type": "code",
   "execution_count": 41,
   "id": "0d529c47",
   "metadata": {},
   "outputs": [],
   "source": [
    "import numpy as np \n",
    "X = np.array([[1.52],[1.60],[1.68],[1.75],[1.80]]) \n",
    "y = np.array([57.48,56.57,66.11,65.10,70.19]) \n",
    " \n",
    "i=1 \n",
    "y_test = y[i] \n",
    "X_test = X[i] \n",
    "y_train = np.delete(y, i, axis=0) \n",
    "X_train = np.delete(X, i, axis=0) \n",
    " \n",
    "from sklearn.preprocessing import PolynomialFeatures  \n",
    "poly_features = PolynomialFeatures(degree=3, include_bias=False) \n",
    "X_train_poly = poly_features.fit_transform(X_train) \n",
    "X_test_poly = poly_features.fit_transform([X_test]) "
   ]
  },
  {
   "cell_type": "code",
   "execution_count": 42,
   "id": "d4ee6cec",
   "metadata": {},
   "outputs": [
    {
     "name": "stdout",
     "output_type": "stream",
     "text": [
      "Intercept:  -20985.957608683406\n",
      "Coefficient:  [ 37865.65675464 -22675.04852483   4520.76863354]\n"
     ]
    }
   ],
   "source": [
    "from sklearn.linear_model import LinearRegression  \n",
    "pr = LinearRegression().fit(X_train_poly, y_train) \n",
    "print(\"Intercept: \", pr.intercept_) \n",
    "print(\"Coefficient: \",pr.coef_)"
   ]
  },
  {
   "cell_type": "code",
   "execution_count": 43,
   "id": "c4f74495",
   "metadata": {},
   "outputs": [
    {
     "name": "stdout",
     "output_type": "stream",
     "text": [
      "Intercept:  44.106563627865654\n",
      "Coefficient:  [0.4095574  1.34247303 3.30873043]\n"
     ]
    }
   ],
   "source": [
    "from sklearn.linear_model import Ridge \n",
    "rr = Ridge(alpha=1).fit(X_train_poly, y_train) \n",
    "print(\"Intercept: \", rr.intercept_) \n",
    "print(\"Coefficient: \",rr.coef_) "
   ]
  },
  {
   "cell_type": "code",
   "execution_count": 44,
   "id": "f21baf46",
   "metadata": {},
   "outputs": [
    {
     "data": {
      "image/png": "[encoded data removed]",
      "text/plain": [
       "<Figure size 432x288 with 1 Axes>"
      ]
     },
     "metadata": {
      "needs_background": "light"
     },
     "output_type": "display_data"
    }
   ],
   "source": [
    "X_train_smooth = np.linspace(X[0], X[4], num=100) \n",
    "X_train_poly_smooth = poly_features.fit_transform(X_train_smooth) \n",
    " \n",
    "import matplotlib.pyplot as plt \n",
    "plt.scatter(X,y) \n",
    "plt.plot(X_train_smooth, pr.predict(X_train_poly_smooth),label='Poly') \n",
    "plt.plot(X_train_smooth, rr.predict(X_train_poly_smooth),label='Ridge') \n",
    "plt.legend() \n",
    "plt.show() "
   ]
  },
  {
   "cell_type": "code",
   "execution_count": 45,
   "id": "fdf98fea",
   "metadata": {},
   "outputs": [
    {
     "data": {
      "text/plain": [
       "'0.24.2'"
      ]
     },
     "execution_count": 45,
     "metadata": {},
     "output_type": "execute_result"
    }
   ],
   "source": [
    "\n",
    "import sklearn \n",
    "sklearn.__version__ "
   ]
  },
  {
   "cell_type": "code",
   "execution_count": 46,
   "id": "36918484",
   "metadata": {},
   "outputs": [
    {
     "name": "stdout",
     "output_type": "stream",
     "text": [
      "Intercept:  34.473066009477535\n",
      "Coefficient:  [0.49836656 1.80015021 4.83116948]\n",
      "Best Alpha:  0.1\n",
      "Avg Sq-Error:  9.882055120945369\n",
      "All Sq-Errors:  [[1.74735950e-02 8.04271664e+00 1.10752509e+01]\n",
      " [2.68442769e+01 1.98208127e+01 1.90991484e+01]\n",
      " [1.26782314e+01 1.23969459e+01 1.27958346e+01]\n",
      " [2.05005955e+00 5.87133314e+00 6.49065346e+00]\n",
      " [1.41346743e+01 3.27846716e+00 2.34257928e+00]]\n"
     ]
    }
   ],
   "source": [
    "import numpy as np \n",
    "X = np.array([[1.52],[1.60],[1.68],[1.75],[1.80]]) \n",
    "y = np.array([57.48,56.57,66.11,65.10,70.19]) \n",
    " \n",
    "from sklearn.preprocessing import PolynomialFeatures \n",
    "poly_features = PolynomialFeatures(degree=3, include_bias=False) \n",
    "X_poly = poly_features.fit_transform(X) \n",
    " \n",
    "from sklearn.linear_model import RidgeCV \n",
    "rrcv = RidgeCV(alphas=[1, 0.1, 0.01],store_cv_values=True).fit(X_poly, y) \n",
    "print(\"Intercept: \", rrcv.intercept_) \n",
    "print(\"Coefficient: \",rrcv.coef_) \n",
    "print(\"Best Alpha: \",rrcv.alpha_) \n",
    "print(\"Avg Sq-Error: \",-rrcv.best_score_) \n",
    "print(\"All Sq-Errors: \",rrcv.cv_values_)"
   ]
  },
  {
   "cell_type": "code",
   "execution_count": 47,
   "id": "40195521",
   "metadata": {},
   "outputs": [
    {
     "name": "stdout",
     "output_type": "stream",
     "text": [
      "Intercept:  34.47306600947718\n",
      "Coefficient:  [0.49836656 1.80015021 4.83116948]\n"
     ]
    }
   ],
   "source": [
    " \n",
    "from sklearn.linear_model import Ridge \n",
    "rr = Ridge(alpha=0.1).fit(X_poly, y) \n",
    "print(\"Intercept: \", rr.intercept_) \n",
    "print(\"Coefficient: \",rr.coef_) "
   ]
  },
  {
   "cell_type": "code",
   "execution_count": 48,
   "id": "6af9c215",
   "metadata": {},
   "outputs": [
    {
     "name": "stdout",
     "output_type": "stream",
     "text": [
      "Intercept:  [-11.47376621]\n",
      "Coefficient:  [45.36431987]\n"
     ]
    }
   ],
   "source": [
    "from sklearn.svm import LinearSVR \n",
    "svmr = LinearSVR(epsilon=0, C=1000, max_iter=10000, random_state=0).fit(X, y) \n",
    "print(\"Intercept: \", svmr.intercept_) \n",
    "print(\"Coefficient: \", svmr.coef_) "
   ]
  },
  {
   "cell_type": "code",
   "execution_count": 49,
   "id": "9cf1fb11",
   "metadata": {},
   "outputs": [
    {
     "name": "stdout",
     "output_type": "stream",
     "text": [
      "Estimated weight of 1.65m individual =>  [63.37736158]\n"
     ]
    }
   ],
   "source": [
    "print(\"Estimated weight of 1.65m individual => \", svmr.predict([[1.65]]))"
   ]
  },
  {
   "cell_type": "code",
   "execution_count": 50,
   "id": "26aff40e",
   "metadata": {},
   "outputs": [
    {
     "data": {
      "text/plain": [
       "[Text(167.4, 181.2, 'X[0] <= 1.64\\nmse = 27.511\\nsamples = 5\\nvalue = 63.09'),\n",
       " Text(83.7, 108.72, 'X[0] <= 1.56\\nmse = 0.207\\nsamples = 2\\nvalue = 57.025'),\n",
       " Text(41.85, 36.23999999999998, 'mse = 0.0\\nsamples = 1\\nvalue = 57.48'),\n",
       " Text(125.55000000000001, 36.23999999999998, 'mse = -0.0\\nsamples = 1\\nvalue = 56.57'),\n",
       " Text(251.10000000000002, 108.72, 'X[0] <= 1.775\\nmse = 4.842\\nsamples = 3\\nvalue = 67.133'),\n",
       " Text(209.25, 36.23999999999998, 'mse = 0.255\\nsamples = 2\\nvalue = 65.605'),\n",
       " Text(292.95, 36.23999999999998, 'mse = 0.0\\nsamples = 1\\nvalue = 70.19')]"
      ]
     },
     "execution_count": 50,
     "metadata": {},
     "output_type": "execute_result"
    },
    {
     "data": {
      "image/png": "[encoded data removed]",
      "text/plain": [
       "<Figure size 432x288 with 1 Axes>"
      ]
     },
     "metadata": {
      "needs_background": "light"
     },
     "output_type": "display_data"
    }
   ],
   "source": [
    "from sklearn.tree import DecisionTreeRegressor \n",
    "dtr = DecisionTreeRegressor(max_depth=2, min_samples_leaf=1, random_state=0).fit(X, y) \n",
    " \n",
    "from sklearn import tree \n",
    "tree.plot_tree(dtr) "
   ]
  },
  {
   "cell_type": "code",
   "execution_count": 51,
   "id": "96927e07",
   "metadata": {},
   "outputs": [
    {
     "name": "stdout",
     "output_type": "stream",
     "text": [
      "Estimated weight of 1.65m individual =>  [65.605]\n"
     ]
    }
   ],
   "source": [
    "print(\"Estimated weight of 1.65m individual => \", dtr.predict([[1.65]])) "
   ]
  },
  {
   "cell_type": "code",
   "execution_count": 52,
   "id": "9ac37a9e",
   "metadata": {},
   "outputs": [
    {
     "name": "stdout",
     "output_type": "stream",
     "text": [
      "R-sq of model:  0.9962919747297405\n"
     ]
    }
   ],
   "source": [
    "print(\"R-sq of model: \", dtr.score(X, y))"
   ]
  },
  {
   "cell_type": "code",
   "execution_count": 53,
   "id": "032a2512",
   "metadata": {},
   "outputs": [
    {
     "data": {
      "text/plain": [
       "DecisionTreeRegressor(criterion='mae', max_depth=2, random_state=0)"
      ]
     },
     "execution_count": 53,
     "metadata": {},
     "output_type": "execute_result"
    }
   ],
   "source": [
    "DecisionTreeRegressor(criterion='mae', max_depth=2, min_samples_leaf=1, random_state=0)"
   ]
  },
  {
   "cell_type": "code",
   "execution_count": null,
   "id": "66c36194",
   "metadata": {},
   "outputs": [],
   "source": []
  }
 ],
 "metadata": {
  "kernelspec": {
   "display_name": "Python 3 (ipykernel)",
   "language": "python",
   "name": "python3"
  },
  "language_info": {
   "codemirror_mode": {
    "name": "ipython",
    "version": 3
   },
   "file_extension": ".py",
   "mimetype": "text/x-python",
   "name": "python",
   "nbconvert_exporter": "python",
   "pygments_lexer": "ipython3",
   "version": "3.9.7"
  }
 },
 "nbformat": 4,
 "nbformat_minor": 5
}
